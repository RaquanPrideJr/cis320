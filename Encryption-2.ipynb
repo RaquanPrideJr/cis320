{
  "nbformat": 4,
  "nbformat_minor": 0,
  "metadata": {
    "colab": {
      "name": "Encryption.ipynb",
      "provenance": [],
      "collapsed_sections": []
    },
    "kernelspec": {
      "name": "python3",
      "display_name": "Python 3"
    },
    "language_info": {
      "name": "python"
    }
  },
  "cells": [
    {
      "cell_type": "markdown",
      "source": [
        "## Symmetric Encryption \n",
        "* use same key fir encryption and decryption \n",
        "\n",
        "### Caesar Cipher\n",
        "* shift letters by number \n",
        "\n",
        "### One Time Pad\n",
        "* key is same size as message\n",
        "* must use key only once \n",
        "*unbreakable \n",
        "\n",
        "## Public Private Key (asymmetric Encryption)\n",
        "* one key is made public (to encrypt)\n",
        "* private key is used to decrypt\n",
        "* uses \n",
        "  * keeping a message private \n",
        "  * authentication \n",
        "  * signing a message \n",
        "\n",
        "## Security \n",
        "* brute force attack \n",
        "* dictionary attack \n",
        "* backdoor/mathematical weakness "
      ],
      "metadata": {
        "id": "UW4Wc9DrchRk"
      }
    },
    {
      "cell_type": "code",
      "execution_count": 1,
      "metadata": {
        "id": "YWvTbxugbbkF",
        "colab": {
          "base_uri": "https://localhost:8080/"
        },
        "outputId": "28a4ccb3-965d-4b7c-cbd1-da70c02ee8b3"
      },
      "outputs": [
        {
          "output_type": "stream",
          "name": "stdout",
          "text": [
            "97\n",
            "a\n",
            "122\n",
            "65\n",
            "90\n",
            "32\n",
            "\u0000,\u0001,\u0002,\u0003,\u0004,\u0005,\u0006,\u0007,\b,\t,\n",
            ",\u000b,\f,\r,\u000e,\u000f,\u0010,\u0011,\u0012,\u0013,\u0014,\u0015,\u0016,\u0017,\u0018,\u0019,\u001a,\u001b,\u001c,\u001d,\u001e,\u001f, ,!,\",#,$,%,&,',(,),*,+,,,-,.,/,0,1,2,3,4,5,6,7,8,9,:,;,<,=,>,?,@,A,B,C,D,E,F,G,H,I,J,K,L,M,N,O,P,Q,R,S,T,U,V,W,X,Y,Z,[,\\,],^,_,`,a,b,c,d,e,f,g,h,i,j,k,l,m,n,o,p,q,r,s,t,u,v,w,x,y,z,"
          ]
        }
      ],
      "source": [
        "plain_text = \"Hello I love you wont you tell me your name\"\n",
        "\n",
        "# shift this sentance by 5 characters \n",
        "# a-->f\n",
        "\n",
        "print(ord('a')) # is 97\n",
        "print(chr(97))\n",
        "print(ord('z'))\n",
        "print(ord('A'))\n",
        "print(ord('Z'))\n",
        "print(ord(' '))\n",
        "for i in range(123):\n",
        "  print(chr(i),end=',')"
      ]
    },
    {
      "cell_type": "code",
      "source": [
        "# caeser cipher \n",
        "shift = 5\n",
        "cipher_text = ''\n",
        "for letter in plain_text:\n",
        "  index = ord(letter) - ord(' ')\n",
        "  new_index = (index + shift) % 91 \n",
        "  cipher_text = cipher_text + chr(new_index + ord(' '))\n",
        "print(cipher_text)"
      ],
      "metadata": {
        "colab": {
          "base_uri": "https://localhost:8080/"
        },
        "id": "X0qkea5fgLUI",
        "outputId": "d0837015-2b70-4532-b87a-5817ff279169"
      },
      "execution_count": 2,
      "outputs": [
        {
          "output_type": "stream",
          "name": "stdout",
          "text": [
            "Mjqqt%N%qt j%#tz%!tsy%#tz%yjqq%rj%#tzw%sfrj\n"
          ]
        }
      ]
    },
    {
      "cell_type": "code",
      "source": [
        "# decrypt caesar cipher \n",
        "# input is cipher_text, output should be decrypted_text\n",
        "shift = 5\n",
        "decrypted_text = ''\n",
        "\n",
        "for letter in cipher_text:\n",
        "  index = ord(letter) - ord(' ')\n",
        "  new_index = (index - shift) % 91 \n",
        "  decrypted_text = decrypted_text + chr(new_index + ord(' '))\n",
        "print(decrypted_text)"
      ],
      "metadata": {
        "colab": {
          "base_uri": "https://localhost:8080/"
        },
        "id": "Scucfu8nh1f_",
        "outputId": "008a7ea5-1188-4ba0-d576-ed025c5a78b5"
      },
      "execution_count": 3,
      "outputs": [
        {
          "output_type": "stream",
          "name": "stdout",
          "text": [
            "Hello I love you wont you tell me your name\n"
          ]
        }
      ]
    },
    {
      "cell_type": "code",
      "source": [
        "for shift in range(1,92):\n",
        "  decrypted_text = ''\n",
        "\n",
        "  for letter in cipher_text:\n",
        "    index = ord(letter) - ord(' ')\n",
        "    new_index = (index - shift) % 91 \n",
        "    decrypted_text = decrypted_text + chr(new_index + ord(' '))\n",
        "  print(decrypted_text)"
      ],
      "metadata": {
        "colab": {
          "base_uri": "https://localhost:8080/"
        },
        "id": "sLUNXGrGiQzV",
        "outputId": "3cd96ce5-dcbd-45ce-86c9-6581494da484"
      },
      "execution_count": 4,
      "outputs": [
        {
          "output_type": "stream",
          "name": "stdout",
          "text": [
            "Lipps$M$pszi$\"sy$ srx$\"sy$xipp$qi$\"syv$reqi\n",
            "Khoor#L#oryh#!rx#zrqw#!rx#whoo#ph#!rxu#qdph\n",
            "Jgnnq\"K\"nqxg\" qw\"yqpv\" qw\"vgnn\"og\" qwt\"pcog\n",
            "Ifmmp!J!mpwf!zpv!xpou!zpv!ufmm!nf!zpvs!obnf\n",
            "Hello I love you wont you tell me your name\n",
            "GdkknzHzknudzxntzvnmszxntzsdkkzldzxntqzm`ld\n",
            "FcjjmyGyjmtcywmsyumlrywmsyrcjjykcywmspyl_kc\n",
            "EbiilxFxilsbxvlrxtlkqxvlrxqbiixjbxvlroxk^jb\n",
            "DahhkwEwhkrawukqwskjpwukqwpahhwiawukqnwj]ia\n",
            "C`ggjvDvgjq`vtjpvrjiovtjpvo`ggvh`vtjpmvi\\h`\n",
            "B_ffiuCufip_usiouqihnusioun_ffug_usioluh[g_\n",
            "A^eehtBteho^trhntphgmtrhntm^eetf^trhnktgZf^\n",
            "@]ddgsAsdgn]sqgmsogflsqgmsl]ddse]sqgmjsfYe]\n",
            "?\\ccfr@rcfm\\rpflrnfekrpflrk\\ccrd\\rpflireXd\\\n",
            ">[bbeq?qbel[qoekqmedjqoekqj[bbqc[qoekhqdWc[\n",
            "=Zaadp>padkZpndjpldcipndjpiZaapbZpndjgpcVbZ\n",
            "<Y``co=o`cjYomciokcbhomciohY``oaYomcifobUaY\n",
            ";X__bn<n_biXnlbhnjbagnlbhngX__n`XnlbhenaT`X\n",
            ":W^^am;m^ahWmkagmia`fmkagmfW^^m_Wmkagdm`S_W\n",
            "9V]]`l:l]`gVlj`flh`_elj`fleV]]l^Vlj`fcl_R^V\n",
            "8U\\\\_k9k\\_fUki_ekg_^dki_ekdU\\\\k]Uki_ebk^Q]U\n",
            "7T[[^j8j[^eTjh^djf^]cjh^djcT[[j\\Tjh^daj]P\\T\n",
            "6SZZ]i7iZ]dSig]cie]\\big]cibSZZi[Sig]c`i\\O[S\n",
            "5RYY\\h6hY\\cRhf\\bhd\\[ahf\\bhaRYYhZRhf\\b_h[NZR\n",
            "4QXX[g5gX[bQge[agc[Z`ge[ag`QXXgYQge[a^gZMYQ\n",
            "3PWWZf4fWZaPfdZ`fbZY_fdZ`f_PWWfXPfdZ`]fYLXP\n",
            "2OVVYe3eVY`OecY_eaYX^ecY_e^OVVeWOecY_\\eXKWO\n",
            "1NUUXd2dUX_NdbX^d`XW]dbX^d]NUUdVNdbX^[dWJVN\n",
            "0MTTWc1cTW^McaW]c_WV\\caW]c\\MTTcUMcaW]ZcVIUM\n",
            "/LSSVb0bSV]Lb`V\\b^VU[b`V\\b[LSSbTLb`V\\YbUHTL\n",
            ".KRRUa/aRU\\Ka_U[a]UTZa_U[aZKRRaSKa_U[XaTGSK\n",
            "-JQQT`.`QT[J`^TZ`\\TSY`^TZ`YJQQ`RJ`^TZW`SFRJ\n",
            ",IPPS_-_PSZI_]SY_[SRX_]SY_XIPP_QI_]SYV_REQI\n",
            "+HOOR^,^ORYH^\\RX^ZRQW^\\RX^WHOO^PH^\\RXU^QDPH\n",
            "*GNNQ]+]NQXG][QW]YQPV][QW]VGNN]OG][QWT]PCOG\n",
            ")FMMP\\*\\MPWF\\ZPV\\XPOU\\ZPV\\UFMM\\NF\\ZPVS\\OBNF\n",
            "(ELLO[)[LOVE[YOU[WONT[YOU[TELL[ME[YOUR[NAME\n",
            "'DKKNZ(ZKNUDZXNTZVNMSZXNTZSDKKZLDZXNTQZM@LD\n",
            "&CJJMY'YJMTCYWMSYUMLRYWMSYRCJJYKCYWMSPYL?KC\n",
            "%BIILX&XILSBXVLRXTLKQXVLRXQBIIXJBXVLROXK>JB\n",
            "$AHHKW%WHKRAWUKQWSKJPWUKQWPAHHWIAWUKQNWJ=IA\n",
            "#@GGJV$VGJQ@VTJPVRJIOVTJPVO@GGVH@VTJPMVI<H@\n",
            "\"?FFIU#UFIP?USIOUQIHNUSIOUN?FFUG?USIOLUH;G?\n",
            "!>EEHT\"TEHO>TRHNTPHGMTRHNTM>EETF>TRHNKTG:F>\n",
            " =DDGS!SDGN=SQGMSOGFLSQGMSL=DDSE=SQGMJSF9E=\n",
            "z<CCFR RCFM<RPFLRNFEKRPFLRK<CCRD<RPFLIRE8D<\n",
            "y;BBEQzQBEL;QOEKQMEDJQOEKQJ;BBQC;QOEKHQD7C;\n",
            "x:AADPyPADK:PNDJPLDCIPNDJPI:AAPB:PNDJGPC6B:\n",
            "w9@@COxO@CJ9OMCIOKCBHOMCIOH9@@OA9OMCIFOB5A9\n",
            "v8??BNwN?BI8NLBHNJBAGNLBHNG8??N@8NLBHENA4@8\n",
            "u7>>AMvM>AH7MKAGMIA@FMKAGMF7>>M?7MKAGDM@3?7\n",
            "t6==@LuL=@G6LJ@FLH@?ELJ@FLE6==L>6LJ@FCL?2>6\n",
            "s5<<?KtK<?F5KI?EKG?>DKI?EKD5<<K=5KI?EBK>1=5\n",
            "r4;;>JsJ;>E4JH>DJF>=CJH>DJC4;;J<4JH>DAJ=0<4\n",
            "q3::=IrI:=D3IG=CIE=<BIG=CIB3::I;3IG=C@I</;3\n",
            "p299<HqH9<C2HF<BHD<;AHF<BHA299H:2HF<B?H;.:2\n",
            "o188;GpG8;B1GE;AGC;:@GE;AG@188G91GE;A>G:-91\n",
            "n077:FoF7:A0FD:@FB:9?FD:@F?077F80FD:@=F9,80\n",
            "m/669EnE69@/EC9?EA98>EC9?E>/66E7/EC9?<E8+7/\n",
            "l.558DmD58?.DB8>D@87=DB8>D=.55D6.DB8>;D7*6.\n",
            "k-447ClC47>-CA7=C?76<CA7=C<-44C5-CA7=:C6)5-\n",
            "j,336BkB36=,B@6<B>65;B@6<B;,33B4,B@6<9B5(4,\n",
            "i+225AjA25<+A?5;A=54:A?5;A:+22A3+A?5;8A4'3+\n",
            "h*114@i@14;*@>4:@<439@>4:@9*11@2*@>4:7@3&2*\n",
            "g)003?h?03:)?=39?;328?=39?8)00?1)?=396?2%1)\n",
            "f(//2>g>/29(><28>:217><28>7(//>0(><285>1$0(\n",
            "e'..1=f=.18'=;17=9106=;17=6'..=/'=;174=0#/'\n",
            "d&--0<e<-07&<:06<80/5<:06<5&--<.&<:063</\".&\n",
            "c%,,/;d;,/6%;9/5;7/.4;9/5;4%,,;-%;9/52;.!-%\n",
            "b$++.:c:+.5$:8.4:6.-3:8.4:3$++:,$:8.41:- ,$\n",
            "a#**-9b9*-4#97-395-,297-392#**9+#97-309,z+#\n",
            "`\")),8a8),3\"86,284,+186,281\"))8*\"86,2/8+y*\"\n",
            "_!((+7`7(+2!75+173+*075+170!((7)!75+1.7*x)!\n",
            "^ ''*6_6'*1 64*062*)/64*06/ ''6( 64*0-6)w( \n",
            "]z&&)5^5&)0z53)/51)(.53)/5.z&&5'z53)/,5(v'z\n",
            "\\y%%(4]4%(/y42(.40('-42(.4-y%%4&y42(.+4'u&y\n",
            "[x$$'3\\3$'.x31'-3/'&,31'-3,x$$3%x31'-*3&t%x\n",
            "Zw##&2[2#&-w20&,2.&%+20&,2+w##2$w20&,)2%s$w\n",
            "Yv\"\"%1Z1\"%,v1/%+1-%$*1/%+1*v\"\"1#v1/%+(1$r#v\n",
            "Xu!!$0Y0!$+u0.$*0,$#)0.$*0)u!!0\"u0.$*'0#q\"u\n",
            "Wt  #/X/ #*t/-#)/+#\"(/-#)/(t  /!t/-#)&/\"p!t\n",
            "Vszz\".W.z\")s.,\"(.*\"!'.,\"(.'szz. s.,\"(%.!o s\n",
            "Uryy!-V-y!(r-+!'-)! &-+!'-&ryy-zr-+!'$- nzr\n",
            "Tqxx ,U,x 'q,* &,( z%,* &,%qxx,yq,* &#,zmyq\n",
            "Spwwz+T+wz&p+)z%+'zy$+)z%+$pww+xp+)z%\"+ylxp\n",
            "Rovvy*S*vy%o*(y$*&yx#*(y$*#ovv*wo*(y$!*xkwo\n",
            "Qnuux)R)ux$n)'x#)%xw\")'x#)\"nuu)vn)'x# )wjvn\n",
            "Pmttw(Q(tw#m(&w\"($wv!(&w\"(!mtt(um(&w\"z(vium\n",
            "Olssv'P'sv\"l'%v!'#vu '%v!' lss'tl'%v!y'uhtl\n",
            "Nkrru&O&ru!k&$u &\"utz&$u &zkrr&sk&$u x&tgsk\n",
            "Mjqqt%N%qt j%#tz%!tsy%#tz%yjqq%rj%#tzw%sfrj\n"
          ]
        }
      ]
    },
    {
      "cell_type": "code",
      "source": [
        "# frequentcy attack\n",
        "# plot the most likely letter \n",
        "# count occurances \n",
        "from collections import defaultdict\n",
        "table = defaultdict(int)\n",
        "for letter in plain_text:\n",
        "  table[letter] += 1\n",
        "\n",
        "for key, val in table.items():\n",
        " print(key, val)\n"
      ],
      "metadata": {
        "colab": {
          "base_uri": "https://localhost:8080/"
        },
        "id": "an1thWP0kXC0",
        "outputId": "db96d5f1-f5c2-4b4b-c413-33545395916a"
      },
      "execution_count": 5,
      "outputs": [
        {
          "output_type": "stream",
          "name": "stdout",
          "text": [
            "H 1\n",
            "e 5\n",
            "l 5\n",
            "o 6\n",
            "  9\n",
            "I 1\n",
            "v 1\n",
            "y 3\n",
            "u 3\n",
            "w 1\n",
            "n 2\n",
            "t 2\n",
            "m 2\n",
            "r 1\n",
            "a 1\n"
          ]
        }
      ]
    },
    {
      "cell_type": "code",
      "source": [
        "print(ord(' '))\n",
        "print(ord('%'))"
      ],
      "metadata": {
        "colab": {
          "base_uri": "https://localhost:8080/"
        },
        "id": "r8gmKvVXlx1g",
        "outputId": "b9bf633b-10ae-4b8f-f0a0-2aaa5ac7b3cd"
      },
      "execution_count": null,
      "outputs": [
        {
          "output_type": "stream",
          "name": "stdout",
          "text": [
            "32\n",
            "37\n"
          ]
        }
      ]
    },
    {
      "cell_type": "code",
      "source": [
        "# ONE TIME {AD \n",
        "plain_text = \"Hello I love you wont you tell me your name\"\n",
        "password        = \"nfjgnfgkndoiginwknvdnkdnkioeifojrjfewknfi4n\"\n",
        "\n",
        "\n",
        "for l,p in zip (plain_text,password):\n",
        "  l_index = ord(l)  - ord(' ')\n",
        "  p_index = ord(l)  - ord(' ')\n",
        "  new_index = (l_index + p_index) % 91\n",
        "  cipher_text += chr(new_index+ord(' '))\n",
        "\n",
        "print(cipher_text)  \n"
      ],
      "metadata": {
        "colab": {
          "base_uri": "https://localhost:8080/"
        },
        "id": "zLn2L3NCmHOj",
        "outputId": "40b01cd5-e8d0-4918-8fee-ccd3bab68cc2"
      },
      "execution_count": 6,
      "outputs": [
        {
          "output_type": "stream",
          "name": "stdout",
          "text": [
            "Mjqqt%N%qt j%#tz%!tsy%#tz%yjqq%rj%#tzw%sfrjpO]]c r ]cqO wco scam wco mO]] _O wcoi aG_O\n"
          ]
        }
      ]
    },
    {
      "cell_type": "code",
      "source": [
        "len(plain_text)\n"
      ],
      "metadata": {
        "colab": {
          "base_uri": "https://localhost:8080/"
        },
        "id": "wtP605pQnmka",
        "outputId": "c9c280a6-7995-4d15-cbe3-c5c369c95b9c"
      },
      "execution_count": 7,
      "outputs": [
        {
          "output_type": "execute_result",
          "data": {
            "text/plain": [
              "43"
            ]
          },
          "metadata": {},
          "execution_count": 7
        }
      ]
    }
  ]
}